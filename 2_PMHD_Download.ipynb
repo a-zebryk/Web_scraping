{
 "cells": [
  {
   "cell_type": "code",
   "execution_count": 8,
   "id": "88523ddb",
   "metadata": {},
   "outputs": [
    {
     "name": "stdout",
     "output_type": "stream",
     "text": [
      "Collecting openpyxl\n",
      "  Downloading openpyxl-3.0.10-py2.py3-none-any.whl (242 kB)\n",
      "     ------------------------------------ 242.1/242.1 kB 646.0 kB/s eta 0:00:00\n",
      "Collecting et-xmlfile\n",
      "  Downloading et_xmlfile-1.1.0-py3-none-any.whl (4.7 kB)\n",
      "Installing collected packages: et-xmlfile, openpyxl\n",
      "Successfully installed et-xmlfile-1.1.0 openpyxl-3.0.10\n"
     ]
    }
   ],
   "source": [
    "!pip install openpyxl"
   ]
  },
  {
   "cell_type": "code",
   "execution_count": 1,
   "id": "c3c773f6",
   "metadata": {},
   "outputs": [],
   "source": [
    "import os\n",
    "import pandas as pd\n",
    "import json\n",
    "import pickle\n",
    "import urllib.request\n",
    "import glob\n",
    "from PIL import Image, ImageSequence\n",
    "import img2pdf\n",
    "import numpy as np\n",
    "import shutil\n",
    "import zipfile"
   ]
  },
  {
   "cell_type": "code",
   "execution_count": 2,
   "id": "5d5ef942",
   "metadata": {},
   "outputs": [],
   "source": [
    "from selenium import webdriver\n",
    "from selenium.common.exceptions import NoSuchElementException\n",
    "import time\n",
    "from bs4 import BeautifulSoup\n",
    "import requests\n",
    "\n",
    "PATH = 'C:\\Program Files (x86)\\chromedriver.exe'\n",
    "DOWNLOAD_PATH = 'C:/Users/ebryaga/Downloads'"
   ]
  },
  {
   "cell_type": "code",
   "execution_count": 3,
   "id": "ff44d560",
   "metadata": {},
   "outputs": [],
   "source": [
    "import warnings\n",
    "warnings.filterwarnings(\"ignore\", category=DeprecationWarning)"
   ]
  },
  {
   "cell_type": "code",
   "execution_count": 4,
   "id": "de61da48",
   "metadata": {},
   "outputs": [],
   "source": [
    "driver = webdriver.Chrome(PATH)\n",
    "\n",
    "driver.get('https://pmhd.azure.bakerhughes.com/pmhd2/html/searchEvent-op-ses')"
   ]
  },
  {
   "cell_type": "markdown",
   "id": "b3da6e38",
   "metadata": {},
   "source": [
    "## Action: Now sign in in pop up window/ Click Agree"
   ]
  },
  {
   "cell_type": "code",
   "execution_count": 5,
   "id": "a41bd473",
   "metadata": {},
   "outputs": [],
   "source": [
    "def search_and_download(x):\n",
    "    '''\n",
    "    This function enables you to serach event by event ID and downaload attachments.\n",
    "    (Downloading using big green arrow on result page)\n",
    "    \n",
    "    Args:\n",
    "        x - event ID\n",
    "        \n",
    "    Returns:\n",
    "        Download file.\n",
    "    '''\n",
    "    \n",
    "    print(f\"Downloading {x}\")\n",
    "    driver.get('https://pmhd.azure.bakerhughes.com/pmhd2/html/searchEvent-op-ses')\n",
    "    search = driver.find_element(\"name\", \"eventId\")\n",
    "    search.clear()\n",
    "    search.send_keys(x)\n",
    "    \n",
    "   \n",
    "    submit = driver.find_element('xpath', '//*[@id=\"gbl_mainBody\"]/form/table[2]/tbody/tr[2]/td[1]/input[1]')\n",
    "    submit.click()\n",
    "    \n",
    "    download = driver.find_element('xpath', '//*[@id=\"tbl_events\"]/tbody/tr/td[12]/a')\n",
    "    download.click()\n",
    "    \n",
    "    \n",
    "    \n",
    "    #switch to search\n",
    "    driver.get('https://pmhd.azure.bakerhughes.com/pmhd2/html/searchEvent-op-ses')"
   ]
  },
  {
   "cell_type": "code",
   "execution_count": 6,
   "id": "73a13f27",
   "metadata": {},
   "outputs": [],
   "source": [
    "def move_and_unzip():\n",
    "    '''\n",
    "    This function enables you to move downloaded zip file to working directory folder (defined by os.getcwd()) and uznip it.\n",
    "    \n",
    "    Args:\n",
    "        \n",
    "    Returns:\n",
    "        Move and uznip file in \n",
    "    '''\n",
    "    \n",
    "    # Waiting till zip will be download\n",
    "    downloaded = False\n",
    "    while not downloaded:\n",
    "        try:\n",
    "            list_of_files = glob.glob(f'{DOWNLOAD_PATH}/*')\n",
    "            latest_file = max(list_of_files, key=os.path.getctime)\n",
    "            norm_latest_file = str(os.path.normpath(latest_file))\n",
    "            downloaded = True\n",
    "        except FileNotFoundError:\n",
    "            time.sleep(2)\n",
    "        while (norm_latest_file.split('.')[-1] != 'zip'):\n",
    "            time.sleep(2)\n",
    "            list_of_files = glob.glob(f'{DOWNLOAD_PATH}/*') # * means all if need specific format then *.csv\n",
    "            try:\n",
    "                latest_file = max(list_of_files, key=os.path.getctime)\n",
    "                norm_latest_file = str(os.path.normpath(latest_file))\n",
    "                print(norm_latest_file)\n",
    "                if norm_latest_file.split('.')[-1] == 'zip':\n",
    "                        break\n",
    "            except FileNotFoundError:\n",
    "                time.sleep(1)\n",
    "\n",
    "                    \n",
    "    # Move zip file to specified direction\n",
    "\n",
    "    src = norm_latest_file\n",
    "    file = norm_latest_file.split('\\\\')[-1]\n",
    "    dst = f'{os.getcwd()}\\\\{file}'\n",
    "    shutil.move(src,dst)    \n",
    "    \n",
    "    \n",
    "    with zipfile.ZipFile(file, \"r\") as zip_ref:\n",
    "        zip_ref.extractall(f\"{file.split('.')[0]}\")"
   ]
  },
  {
   "cell_type": "markdown",
   "id": "7fa50045",
   "metadata": {},
   "source": [
    "## Preparing input - list  of events"
   ]
  },
  {
   "cell_type": "code",
   "execution_count": 9,
   "id": "6b9b1864",
   "metadata": {},
   "outputs": [],
   "source": [
    "df_pmhd = pd.read_excel('pmhd_K_final.xlsx')\n",
    "events = df_pmhd['N_EVT_ID'].to_list()"
   ]
  },
  {
   "cell_type": "code",
   "execution_count": 10,
   "id": "12b02bbf",
   "metadata": {},
   "outputs": [],
   "source": [
    "os.chdir('C:\\\\Users\\\\ebryaga\\\\Desktop\\\\PMHD_Test')"
   ]
  },
  {
   "cell_type": "code",
   "execution_count": 11,
   "id": "c63588fe",
   "metadata": {},
   "outputs": [
    {
     "name": "stdout",
     "output_type": "stream",
     "text": [
      "Downloading 223121\n",
      "OK\n",
      "Downloading 223129\n",
      "C:\\Users\\ebryaga\\Downloads\\Event_223129.zip.crdownload\n",
      "C:\\Users\\ebryaga\\Downloads\\Event_223129.zip.crdownload\n",
      "C:\\Users\\ebryaga\\Downloads\\Event_223129.zip.crdownload\n",
      "C:\\Users\\ebryaga\\Downloads\\Event_223129.zip.crdownload\n",
      "C:\\Users\\ebryaga\\Downloads\\Event_223129.zip.crdownload\n",
      "C:\\Users\\ebryaga\\Downloads\\Event_223129.zip\n",
      "OK\n",
      "Downloading 223129\n",
      "C:\\Users\\ebryaga\\Downloads\\Event_223129.zip.crdownload\n",
      "C:\\Users\\ebryaga\\Downloads\\Event_223129.zip.crdownload\n",
      "C:\\Users\\ebryaga\\Downloads\\Event_223129.zip.crdownload\n",
      "C:\\Users\\ebryaga\\Downloads\\Event_223129.zip.crdownload\n",
      "C:\\Users\\ebryaga\\Downloads\\Event_223129.zip.crdownload\n",
      "C:\\Users\\ebryaga\\Downloads\\Event_223129.zip\n",
      "OK\n",
      "Downloading 223552\n",
      "OK\n"
     ]
    }
   ],
   "source": [
    "bad_events = []\n",
    "for event in events[:4]:\n",
    "    try:\n",
    "        search_and_download(event)\n",
    "        move_and_unzip()\n",
    "        print(\"OK\")\n",
    "    except:\n",
    "        bad_events.append(event)\n",
    "        print(\"Whoops\")"
   ]
  },
  {
   "cell_type": "code",
   "execution_count": null,
   "id": "e9d806be",
   "metadata": {},
   "outputs": [],
   "source": []
  }
 ],
 "metadata": {
  "kernelspec": {
   "display_name": "Python 3 (ipykernel)",
   "language": "python",
   "name": "python3"
  },
  "language_info": {
   "codemirror_mode": {
    "name": "ipython",
    "version": 3
   },
   "file_extension": ".py",
   "mimetype": "text/x-python",
   "name": "python",
   "nbconvert_exporter": "python",
   "pygments_lexer": "ipython3",
   "version": "3.10.7"
  }
 },
 "nbformat": 4,
 "nbformat_minor": 5
}
